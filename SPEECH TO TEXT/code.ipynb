{
 "cells": [
  {
   "cell_type": "code",
   "execution_count": 5,
   "id": "0194a9cd",
   "metadata": {},
   "outputs": [
    {
     "name": "stdout",
     "output_type": "stream",
     "text": [
      "Start to Speak....\n",
      "Stop...\n",
      "You Said:  hey Google Whatsapp\n",
      "ta\n",
      "ஏய் கூகிள் வாட்ஸ்அப்\n"
     ]
    }
   ],
   "source": [
    "from gtts import gTTS\n",
    "from io import BytesIO\n",
    "from pygame import mixer\n",
    "import time\n",
    "import gtts\n",
    "from deep_translator import GoogleTranslator as GT\n",
    "import speech_recognition as sr\n",
    "\n",
    "lang_list = gtts.lang.tts_langs()\n",
    "\n",
    "lang_key_list = list(lang_list.keys())\n",
    "lang_val_list = [i.strip().lower() for i in list(lang_list.values())]\n",
    "\n",
    "def speak(txt, target_lang):\n",
    "    print (target_lang)\n",
    "    translated_text = GT(source = 'auto', target = target_lang).translate(txt)\n",
    "    print (translated_text)\n",
    "\n",
    "    time.sleep(2)\n",
    "    mp3_fp = BytesIO()\n",
    "    tts = gTTS(translated_text,lang = target_lang)\n",
    "    tts.write_to_fp(mp3_fp)\n",
    "    sound = mp3_fp\n",
    "    \n",
    "    mixer.init()\n",
    "    sound.seek(0)\n",
    "    mixer.music.load(sound, \"mp3\")\n",
    "    mixer.music.play()\n",
    "def capture_voice():\n",
    "    vc = sr.Recognizer()\n",
    "    audio = ''\n",
    "\n",
    "    with sr.Microphone() as source:\n",
    "        print (\"Start to Speak....\")\n",
    "        audio = vc.listen(source, phrase_time_limit = 5)\n",
    "    print (\"Stop...\")\n",
    "\n",
    "    try:\n",
    "        text = vc.recognize_google(audio, language = \"en\")\n",
    "        print (\"You Said: \", text)\n",
    "        return text\n",
    "    except:\n",
    "        t = \"Couldn't understand your voice.  Please speak properly\"\n",
    "        print (t)\n",
    "        return t\n",
    "\n",
    "if __name__ == \"__main__\":\n",
    "    #!pip install pyaudio\n",
    "    voice_text = capture_voice()\n",
    "    speak(voice_text, \"ta\")"
   ]
  }
 ],
 "metadata": {
  "kernelspec": {
   "display_name": "base",
   "language": "python",
   "name": "python3"
  },
  "language_info": {
   "codemirror_mode": {
    "name": "ipython",
    "version": 3
   },
   "file_extension": ".py",
   "mimetype": "text/x-python",
   "name": "python",
   "nbconvert_exporter": "python",
   "pygments_lexer": "ipython3",
   "version": "3.12.7"
  }
 },
 "nbformat": 4,
 "nbformat_minor": 5
}
